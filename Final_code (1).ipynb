{
  "cells": [
    {
      "cell_type": "code",
      "execution_count": null,
      "metadata": {
        "id": "kNMcs8o3zqFP"
      },
      "outputs": [],
      "source": [
        "import numpy as np                                       # for dealing with data\n",
        "import pandas as pd                                      # for reading data\n",
        "import matplotlib.pyplot as plt                          # for plotting \n",
        "import sklearn                                           # for machine learning models\n",
        "from sklearn.model_selection import train_test_split\n",
        "from sklearn.ensemble import RandomForestClassifier, GradientBoostingClassifier\n",
        "from sklearn.svm import SVC\n",
        "from sklearn.metrics import accuracy_score, confusion_matrix,classification_report\n",
        "from sklearn.preprocessing import StandardScaler\n",
        "from google.colab import drive"
      ]
    },
    {
      "cell_type": "code",
      "execution_count": null,
      "metadata": {
        "id": "mwATpnaOz1Kn",
        "colab": {
          "base_uri": "https://localhost:8080/"
        },
        "outputId": "8eaab9c5-6263-4903-b0f0-ea6ac4d56026"
      },
      "outputs": [
        {
          "output_type": "stream",
          "name": "stdout",
          "text": [
            "Drive already mounted at /content/drive; to attempt to forcibly remount, call drive.mount(\"/content/drive\", force_remount=True).\n"
          ]
        }
      ],
      "source": [
        "drive.mount('/content/drive')\n",
        "data=pd.read_csv(\"/content/drive/MyDrive/Colab Notebooks/traincombinefinal.csv\")"
      ]
    },
    {
      "cell_type": "code",
      "execution_count": null,
      "metadata": {
        "id": "QVNBgm5Oz-Q2"
      },
      "outputs": [],
      "source": [
        "X=data.iloc[:,0:68] # To select particular rows and columns for training and predictions.\n",
        "y=data.iloc[:,68]   "
      ]
    },
    {
      "cell_type": "code",
      "execution_count": null,
      "metadata": {
        "id": "hBoKKDs-0E0Z"
      },
      "outputs": [],
      "source": [
        "# split into train and test set\n",
        "X_train, X_test, y_train, y_test = train_test_split(\n",
        "    X, y, test_size=0.20, random_state=55     # Random state sets a seed so that the train and test datasets are reproducible.\n",
        ")"
      ]
    },
    {
      "cell_type": "markdown",
      "metadata": {
        "id": "j7zkljnh0OJI"
      },
      "source": [
        "## ***Random Forest***"
      ]
    },
    {
      "cell_type": "code",
      "execution_count": null,
      "metadata": {
        "colab": {
          "base_uri": "https://localhost:8080/"
        },
        "id": "rWHKaba20Luz",
        "outputId": "dfddfe30-cee5-4bfa-b141-be9d46f0a688"
      },
      "outputs": [
        {
          "output_type": "execute_result",
          "data": {
            "text/plain": [
              "RandomForestClassifier(n_estimators=500)"
            ]
          },
          "metadata": {},
          "execution_count": 6
        }
      ],
      "source": [
        "# create the classifier\n",
        "classifier = RandomForestClassifier(n_estimators=500)   # n_estimators is the no of trees you want to bulid before taking average predictions.\n",
        "\n",
        "# Train the model using the training sets\n",
        "classifier.fit(X_train, y_train)"
      ]
    },
    {
      "cell_type": "code",
      "execution_count": null,
      "metadata": {
        "id": "p2s30-8I0X6g"
      },
      "outputs": [],
      "source": [
        "# predictin on the test set\n",
        "y_pred = classifier.predict(X_test)"
      ]
    },
    {
      "cell_type": "code",
      "execution_count": null,
      "metadata": {
        "colab": {
          "base_uri": "https://localhost:8080/"
        },
        "id": "pRPiGgac0bJR",
        "outputId": "25d4c731-9143-4b76-bea7-d5845fadcb19"
      },
      "outputs": [
        {
          "output_type": "stream",
          "name": "stdout",
          "text": [
            "Accuracy: 0.999951923076923\n"
          ]
        }
      ],
      "source": [
        "# Calculate Model Accuracy\n",
        "RFC_acc=accuracy_score(y_test, y_pred)\n",
        "print(\"Accuracy:\", RFC_acc)"
      ]
    },
    {
      "cell_type": "code",
      "execution_count": null,
      "metadata": {
        "colab": {
          "base_uri": "https://localhost:8080/"
        },
        "id": "4Sz26gkQ0dWj",
        "outputId": "05d237c7-1a74-4058-d77e-3b09c720792c"
      },
      "outputs": [
        {
          "output_type": "stream",
          "name": "stdout",
          "text": [
            "[[10343     0]\n",
            " [    1 10456]]\n"
          ]
        }
      ],
      "source": [
        "cm=sklearn.metrics.confusion_matrix(y_test,y_pred)  # Use to tell TP, TN, FP, FN\n",
        "print(cm)"
      ]
    },
    {
      "cell_type": "markdown",
      "metadata": {
        "id": "0etVS7gp0648"
      },
      "source": [
        "## **Support vector Machine(SVM)**"
      ]
    },
    {
      "cell_type": "code",
      "execution_count": null,
      "metadata": {
        "id": "lXWMmQiv1B41"
      },
      "outputs": [],
      "source": [
        "svclassifier = SVC(kernel='linear')  # Linear kernel is used because the data set is linearly separable and also because their are a large number of features in the dataset.\n",
        "svclassifier.fit(X_train, y_train)"
      ]
    },
    {
      "cell_type": "code",
      "execution_count": null,
      "metadata": {
        "id": "34z_LXD41ESR"
      },
      "outputs": [],
      "source": [
        "y_pred = svclassifier.predict(X_test)\n",
        "SVM_acc=accuracy_score(y_test, y_pred)\n",
        "print(\"Accuracy:\", SVM_acc)"
      ]
    },
    {
      "cell_type": "code",
      "execution_count": null,
      "metadata": {
        "id": "Q-SC6WmH1Trl"
      },
      "outputs": [],
      "source": [
        "print(confusion_matrix(y_test,y_pred))\n",
        "print(classification_report(y_test,y_pred))\n",
        "# recall->ratio of true positives to the sum of true positives and false negatives.\n",
        "# f1-score->weighted average of the precision and recall values"
      ]
    },
    {
      "cell_type": "markdown",
      "metadata": {
        "id": "lVdKrPRH1Xrp"
      },
      "source": [
        "### **Gradient Boost Classifier** "
      ]
    },
    {
      "cell_type": "code",
      "execution_count": null,
      "metadata": {
        "id": "wbo0k4Xn10g9"
      },
      "outputs": [],
      "source": [
        "# find optimal learning rate value\n",
        "learning_rate =  [0.01, 0.05, 0.1, 0.5, 1];\n",
        "for n in learning_rate:\n",
        " gbc = GradientBoostingClassifier(n_estimators=100, learning_rate=n, max_depth=1)\n",
        " gbc.fit(X_train, np.ravel(y_train, order='C'))\n",
        " ypred = gbc.predict(X_test)\n",
        " acc=gbc.score(X_test, y_test) \n",
        " print(\"Learning rate: \",n, \"  Accuracy: \", acc)\n",
        " print(\"Confusion matrix:\")\n",
        " print(confusion_matrix(y_test, ypred))"
      ]
    },
    {
      "cell_type": "code",
      "execution_count": null,
      "metadata": {
        "id": "Auo7URop13AO"
      },
      "outputs": [],
      "source": [
        "# find optimal number of estimators\n",
        "estimators =  [10,50,100,200,500];\n",
        "for e in estimators:\n",
        " gbc = GradientBoostingClassifier(n_estimators=e, learning_rate=1, max_depth=1)\n",
        " gbc.fit(X_train, np.ravel(y_train, order='C'))\n",
        " ypred = gbc.predict(X_test)\n",
        " acc=gbc.score(X_test, y_test)\n",
        " print(\"Number of estimators: \",e, \"  Accuracy: \", acc)\n",
        " print(\"Confusion matrix:\")\n",
        " print(confusion_matrix(y_test, ypred))"
      ]
    },
    {
      "cell_type": "code",
      "execution_count": null,
      "metadata": {
        "id": "PO8eP59A1lDl"
      },
      "outputs": [],
      "source": [
        "gbc = GradientBoostingClassifier(n_estimators=500, learning_rate=1, max_depth=1)\n",
        "gbc.fit(X_train, np.ravel(y_train, order='C'))\n",
        "ypred = gbc.predict(X_test)"
      ]
    },
    {
      "cell_type": "code",
      "execution_count": null,
      "metadata": {
        "id": "P7T_uN5X1xA8"
      },
      "outputs": [],
      "source": [
        "GradientBoostingClassifier() \n",
        "GBC_acc=gbc.score(X_test, y_test)\n",
        "print(GBC_acc)"
      ]
    },
    {
      "cell_type": "code",
      "source": [
        "X_bar = ['Random Forest','SVM','Grading Boost Classifier']\n",
        "Y_bar= [RFC_acc*100,SVM_acc*100,GBC_acc*100]\n",
        "import matplotlib.pyplot as plt\n",
        "plt.barh(X_bar, Y_bar, align='center', color=('#C4EE73','#EEA773', '#73EED9'))\n",
        "plt.xlabel(\"Performance Accuracy in Percentage\")\n",
        "plt.show()"
      ],
      "metadata": {
        "id": "gmg_BiI6rqfS"
      },
      "execution_count": null,
      "outputs": []
    }
  ],
  "metadata": {
    "colab": {
      "name": "Final code.ipynb",
      "provenance": [],
      "collapsed_sections": []
    },
    "kernelspec": {
      "display_name": "Python 3",
      "name": "python3"
    },
    "language_info": {
      "name": "python"
    }
  },
  "nbformat": 4,
  "nbformat_minor": 0
}